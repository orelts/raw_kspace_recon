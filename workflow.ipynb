{
 "cells": [
  {
   "cell_type": "code",
   "execution_count": 2,
   "metadata": {},
   "outputs": [],
   "source": [
    "from bart import bart\n",
    "import matplotlib.pyplot as plt\n",
    "import numpy as np\n",
    "import os\n",
    "import twixtools\n"
   ]
  },
  {
   "cell_type": "code",
   "execution_count": 3,
   "metadata": {},
   "outputs": [],
   "source": [
    "def ifftnd(kspace, axes=[-1]):\n",
    "    from numpy.fft import fftshift, ifftshift, ifftn\n",
    "    if axes is None:\n",
    "        axes = range(kspace.ndim)\n",
    "    img = ifftshift(ifftn(fftshift(kspace, axes=axes), axes=axes), axes=axes)\n",
    "    img *= np.sqrt(np.prod(np.take(img.shape, axes)))\n",
    "    return img\n",
    "\n",
    "\n",
    "def fftnd(img, axes=[-1]):\n",
    "    from numpy.fft import fftshift, ifftshift, fftn\n",
    "    if axes is None:\n",
    "        axes = range(img.ndim)\n",
    "    kspace = fftshift(fftn(ifftshift(img, axes=axes), axes=axes), axes=axes)\n",
    "    kspace /= np.sqrt(np.prod(np.take(kspace.shape, axes)))\n",
    "    return kspace\n",
    "\n",
    "def rms_comb(sig, axis=1):\n",
    "    return np.sqrt(np.sum(abs(sig)**2, axis))\n",
    "\n",
    "def find_dat_files(folder):\n",
    "    dat_files = []\n",
    "    for root, dirs, files in os.walk(folder):\n",
    "        for file in files:\n",
    "            if file.endswith('.dat'):\n",
    "                dat_files.append(os.path.join(root, file))\n",
    "    return dat_files\n",
    "\n",
    "# read all image data from file\n",
    "def read_image_data(filename):\n",
    "    out = list()\n",
    "    for mdb in twixtools.read_twix(filename)[-1]['mdb']:\n",
    "        if mdb.is_image_scan():\n",
    "            out.append(mdb.data)\n",
    "    return np.asarray(out)  # 3D numpy array [acquisition_counter, n_channel, n_column]\n",
    "\n",
    "\n",
    "# read image data from list of mdbs and sort into 3d k-space (+ coil dim.)\n",
    "def import_kspace(mdb_list):\n",
    "    image_mdbs = []\n",
    "    for mdb in mdb_list:\n",
    "        if mdb.is_image_scan():\n",
    "            image_mdbs.append(mdb)\n",
    "\n",
    "    n_line = 1 + max([mdb.cLin for mdb in image_mdbs])\n",
    "    n_part = 1 + max([mdb.cPar for mdb in image_mdbs])\n",
    "    n_channel, n_column = image_mdbs[0].data.shape\n",
    "\n",
    "    out = np.zeros([n_part, n_line, n_channel, n_column], dtype=np.complex64)\n",
    "    for mdb in image_mdbs:\n",
    "        # '+=' takes care of averaging, but careful in case of other counters (e.g. echoes)\n",
    "        out[mdb.cPar, mdb.cLin] += mdb.data\n",
    "\n",
    "    return out  # 4D numpy array [n_part, n_line, n_channel, n_column]"
   ]
  },
  {
   "cell_type": "code",
   "execution_count": 4,
   "metadata": {},
   "outputs": [
    {
     "name": "stdout",
     "output_type": "stream",
     "text": [
      "epi_se.seq\n",
      "meas_MID00146_FID04783_Anatomy_for_us_t2_space_sag_cs4_iso.dat\n",
      "meas_MID00148_FID04785_t1_se_sag.dat\n",
      "meas_MID00149_FID04786_AdjCoilSens.dat\n",
      "meas_MID00150_FID04787_t1_se_sag_fov_phase_50%.dat\n",
      "meas_MID00151_FID04788_t1_se_sag_Phase_Resolusion_50%.dat\n",
      "meas_MID00152_FID04789_AdjDico.dat\n",
      "meas_MID00153_FID04790_AdjFre.dat\n",
      "meas_MID00154_FID04791_AdjTra1D.dat\n",
      "meas_MID00155_FID04792_AdjTra2D.dat\n",
      "meas_MID00156_FID04793_AdjDico.dat\n",
      "meas_MID00157_FID04794_AdjCoilSens.dat\n",
      "meas_MID00159_FID04796_t1_se_sag_Phase_fov_21_9%.dat\n",
      "meas_MID00167_FID04804_AdjFre.dat\n",
      "meas_MID00169_FID04806_pulseq.dat\n"
     ]
    }
   ],
   "source": [
    "!ls \"/home/orel/Downloads/kspace/\""
   ]
  },
  {
   "cell_type": "markdown",
   "metadata": {},
   "source": [
    "# READING ALL FILES "
   ]
  },
  {
   "cell_type": "code",
   "execution_count": 5,
   "metadata": {},
   "outputs": [
    {
     "data": {
      "text/plain": [
       "['/home/orel/Downloads/kspace/meas_MID00155_FID04792_AdjTra2D.dat',\n",
       " '/home/orel/Downloads/kspace/meas_MID00151_FID04788_t1_se_sag_Phase_Resolusion_50%.dat',\n",
       " '/home/orel/Downloads/kspace/meas_MID00157_FID04794_AdjCoilSens.dat',\n",
       " '/home/orel/Downloads/kspace/meas_MID00159_FID04796_t1_se_sag_Phase_fov_21_9%.dat',\n",
       " '/home/orel/Downloads/kspace/meas_MID00156_FID04793_AdjDico.dat',\n",
       " '/home/orel/Downloads/kspace/meas_MID00154_FID04791_AdjTra1D.dat',\n",
       " '/home/orel/Downloads/kspace/meas_MID00169_FID04806_pulseq.dat',\n",
       " '/home/orel/Downloads/kspace/meas_MID00146_FID04783_Anatomy_for_us_t2_space_sag_cs4_iso.dat',\n",
       " '/home/orel/Downloads/kspace/meas_MID00148_FID04785_t1_se_sag.dat',\n",
       " '/home/orel/Downloads/kspace/meas_MID00153_FID04790_AdjFre.dat',\n",
       " '/home/orel/Downloads/kspace/meas_MID00149_FID04786_AdjCoilSens.dat',\n",
       " '/home/orel/Downloads/kspace/meas_MID00150_FID04787_t1_se_sag_fov_phase_50%.dat',\n",
       " '/home/orel/Downloads/kspace/meas_MID00152_FID04789_AdjDico.dat',\n",
       " '/home/orel/Downloads/kspace/meas_MID00167_FID04804_AdjFre.dat']"
      ]
     },
     "execution_count": 5,
     "metadata": {},
     "output_type": "execute_result"
    }
   ],
   "source": [
    "\n",
    "ksp_dir = \"/home/orel/Downloads/kspace/\"\n",
    "ksp_files = find_dat_files(ksp_dir)\n",
    "ksp_files"
   ]
  },
  {
   "cell_type": "markdown",
   "metadata": {},
   "source": [
    "# Filter files that are Adj files"
   ]
  },
  {
   "cell_type": "code",
   "execution_count": 6,
   "metadata": {},
   "outputs": [
    {
     "data": {
      "text/plain": [
       "['/home/orel/Downloads/kspace/meas_MID00151_FID04788_t1_se_sag_Phase_Resolusion_50%.dat',\n",
       " '/home/orel/Downloads/kspace/meas_MID00159_FID04796_t1_se_sag_Phase_fov_21_9%.dat',\n",
       " '/home/orel/Downloads/kspace/meas_MID00169_FID04806_pulseq.dat',\n",
       " '/home/orel/Downloads/kspace/meas_MID00148_FID04785_t1_se_sag.dat',\n",
       " '/home/orel/Downloads/kspace/meas_MID00150_FID04787_t1_se_sag_fov_phase_50%.dat']"
      ]
     },
     "execution_count": 6,
     "metadata": {},
     "output_type": "execute_result"
    }
   ],
   "source": [
    "ksp_files = [f for f in ksp_files if \"Adj\" not in f and \"Anatomy\" not in f]\n",
    "ksp_files"
   ]
  },
  {
   "cell_type": "code",
   "execution_count": 7,
   "metadata": {},
   "outputs": [
    {
     "name": "stdout",
     "output_type": "stream",
     "text": [
      "WARNING: keep_syncdata_and_acqend is deprecated, use keep_syncdata and keep_acqend instead\n",
      "         Setting keep_syncdata and keep_acqend to {True}.\n",
      "Software version: VD/VE (!?)\n",
      "\n",
      "Scan  0\n"
     ]
    },
    {
     "name": "stderr",
     "output_type": "stream",
     "text": [
      "100%|██████████| 127M/127M [00:00<00:00, 1.02GB/s]\n"
     ]
    },
    {
     "name": "stdout",
     "output_type": "stream",
     "text": [
      "WARNING: Geometry calculations are valid only for the first slice in this multi-slice acquisition.\n",
      "Scan  1\n"
     ]
    },
    {
     "name": "stderr",
     "output_type": "stream",
     "text": [
      "100%|██████████| 871M/871M [00:00<00:00, 2.41GB/s]\n"
     ]
    },
    {
     "name": "stdout",
     "output_type": "stream",
     "text": [
      "/home/orel/Downloads/kspace/meas_MID00151_FID04788_t1_se_sag_Phase_Resolusion_50%.dat ReadFoV - 220.0\n",
      "/home/orel/Downloads/kspace/meas_MID00151_FID04788_t1_se_sag_Phase_Resolusion_50%.dat PhaseFoV - 220.0\n",
      "/home/orel/Downloads/kspace/meas_MID00151_FID04788_t1_se_sag_Phase_Resolusion_50%.dat PhaseResolution - 0.5\n",
      "/home/orel/Downloads/kspace/meas_MID00151_FID04788_t1_se_sag_Phase_Resolusion_50%.dat dPhaseFOV - 220.0\n",
      "WARNING: keep_syncdata_and_acqend is deprecated, use keep_syncdata and keep_acqend instead\n",
      "         Setting keep_syncdata and keep_acqend to {True}.\n",
      "Software version: VD/VE (!?)\n",
      "\n",
      "Scan  0\n"
     ]
    },
    {
     "name": "stderr",
     "output_type": "stream",
     "text": [
      "100%|██████████| 127M/127M [00:00<00:00, 964MB/s] \n"
     ]
    },
    {
     "name": "stdout",
     "output_type": "stream",
     "text": [
      "WARNING: Geometry calculations are valid only for the first slice in this multi-slice acquisition.\n",
      "Scan  1\n"
     ]
    },
    {
     "name": "stderr",
     "output_type": "stream",
     "text": [
      "100%|██████████| 383M/383M [00:00<00:00, 3.53GB/s]\n"
     ]
    },
    {
     "name": "stdout",
     "output_type": "stream",
     "text": [
      "/home/orel/Downloads/kspace/meas_MID00159_FID04796_t1_se_sag_Phase_fov_21_9%.dat ReadFoV - 220.0\n",
      "/home/orel/Downloads/kspace/meas_MID00159_FID04796_t1_se_sag_Phase_fov_21_9%.dat PhaseFoV - 48.125\n",
      "/home/orel/Downloads/kspace/meas_MID00159_FID04796_t1_se_sag_Phase_fov_21_9%.dat PhaseResolution - 1.0\n",
      "/home/orel/Downloads/kspace/meas_MID00159_FID04796_t1_se_sag_Phase_fov_21_9%.dat dPhaseFOV - 48.125\n",
      "WARNING: keep_syncdata_and_acqend is deprecated, use keep_syncdata and keep_acqend instead\n",
      "         Setting keep_syncdata and keep_acqend to {True}.\n",
      "Software version: VD/VE (!?)\n",
      "\n",
      "Scan  0\n"
     ]
    },
    {
     "name": "stderr",
     "output_type": "stream",
     "text": [
      "100%|██████████| 96.8M/96.8M [00:00<00:00, 896MB/s]\n"
     ]
    },
    {
     "name": "stdout",
     "output_type": "stream",
     "text": [
      "Scan  1\n"
     ]
    },
    {
     "name": "stderr",
     "output_type": "stream",
     "text": [
      "100%|██████████| 1.47M/1.47M [00:00<00:00, 589MB/s]\n"
     ]
    },
    {
     "name": "stdout",
     "output_type": "stream",
     "text": [
      "/home/orel/Downloads/kspace/meas_MID00169_FID04806_pulseq.dat ReadFoV - 256.0\n",
      "/home/orel/Downloads/kspace/meas_MID00169_FID04806_pulseq.dat PhaseFoV - 256.0\n",
      "/home/orel/Downloads/kspace/meas_MID00169_FID04806_pulseq.dat PhaseResolution - 1.0\n",
      "/home/orel/Downloads/kspace/meas_MID00169_FID04806_pulseq.dat dPhaseFOV - 256.0\n",
      "WARNING: keep_syncdata_and_acqend is deprecated, use keep_syncdata and keep_acqend instead\n",
      "         Setting keep_syncdata and keep_acqend to {True}.\n",
      "Software version: VD/VE (!?)\n",
      "\n",
      "Scan  0\n"
     ]
    },
    {
     "name": "stderr",
     "output_type": "stream",
     "text": [
      "100%|██████████| 127M/127M [00:00<00:00, 1.20GB/s]\n"
     ]
    },
    {
     "name": "stdout",
     "output_type": "stream",
     "text": [
      "WARNING: Geometry calculations are valid only for the first slice in this multi-slice acquisition.\n",
      "Scan  1\n"
     ]
    },
    {
     "name": "stderr",
     "output_type": "stream",
     "text": [
      "100%|██████████| 1.70G/1.70G [00:00<00:00, 2.47GB/s]\n"
     ]
    },
    {
     "name": "stdout",
     "output_type": "stream",
     "text": [
      "/home/orel/Downloads/kspace/meas_MID00148_FID04785_t1_se_sag.dat ReadFoV - 220.0\n",
      "/home/orel/Downloads/kspace/meas_MID00148_FID04785_t1_se_sag.dat PhaseFoV - 220.0\n",
      "/home/orel/Downloads/kspace/meas_MID00148_FID04785_t1_se_sag.dat PhaseResolution - 1.0\n",
      "/home/orel/Downloads/kspace/meas_MID00148_FID04785_t1_se_sag.dat dPhaseFOV - 220.0\n",
      "WARNING: keep_syncdata_and_acqend is deprecated, use keep_syncdata and keep_acqend instead\n",
      "         Setting keep_syncdata and keep_acqend to {True}.\n",
      "Software version: VD/VE (!?)\n",
      "\n",
      "Scan  0\n"
     ]
    },
    {
     "name": "stderr",
     "output_type": "stream",
     "text": [
      "100%|██████████| 114M/114M [00:00<00:00, 1.80GB/s]\n"
     ]
    },
    {
     "name": "stdout",
     "output_type": "stream",
     "text": [
      "WARNING: Geometry calculations are valid only for the first slice in this multi-slice acquisition.\n",
      "Scan  1\n"
     ]
    },
    {
     "name": "stderr",
     "output_type": "stream",
     "text": [
      "100%|██████████| 781M/781M [00:00<00:00, 2.53GB/s]"
     ]
    },
    {
     "name": "stdout",
     "output_type": "stream",
     "text": [
      "/home/orel/Downloads/kspace/meas_MID00150_FID04787_t1_se_sag_fov_phase_50%.dat ReadFoV - 220.0\n",
      "/home/orel/Downloads/kspace/meas_MID00150_FID04787_t1_se_sag_fov_phase_50%.dat PhaseFoV - 110.0\n",
      "/home/orel/Downloads/kspace/meas_MID00150_FID04787_t1_se_sag_fov_phase_50%.dat PhaseResolution - 1.0\n",
      "/home/orel/Downloads/kspace/meas_MID00150_FID04787_t1_se_sag_fov_phase_50%.dat dPhaseFOV - 110.0\n"
     ]
    },
    {
     "name": "stderr",
     "output_type": "stream",
     "text": [
      "\n"
     ]
    }
   ],
   "source": [
    "for f in ksp_files:\n",
    "    twix = twixtools.read_twix(f,  keep_syncdata_and_acqend=True)\n",
    "    last_measurement = twix[-1]\n",
    "    print(f\"{f} ReadFoV - {last_measurement['hdr']['Config']['ReadFoV']}\")\n",
    "    print(f\"{f} PhaseFoV - {last_measurement['hdr']['Config']['PhaseFoV']}\")\n",
    "    print(f\"{f} PhaseResolution - {last_measurement['hdr']['Config']['PhaseResolution']}\")\n",
    "    print(f\"{f} dPhaseFOV - {last_measurement['hdr']['Dicom']['dPhaseFOV']}\")"
   ]
  },
  {
   "cell_type": "markdown",
   "metadata": {},
   "source": [
    "# Choose single file from options above"
   ]
  },
  {
   "cell_type": "code",
   "execution_count": 8,
   "metadata": {},
   "outputs": [
    {
     "name": "stdout",
     "output_type": "stream",
     "text": [
      "WARNING: keep_syncdata_and_acqend is deprecated, use keep_syncdata and keep_acqend instead\n",
      "         Setting keep_syncdata and keep_acqend to {True}.\n",
      "Software version: VD/VE (!?)\n",
      "\n",
      "Scan  0\n"
     ]
    },
    {
     "name": "stderr",
     "output_type": "stream",
     "text": [
      "100%|██████████| 127M/127M [00:00<00:00, 1.95GB/s]\n"
     ]
    },
    {
     "name": "stdout",
     "output_type": "stream",
     "text": [
      "WARNING: Geometry calculations are valid only for the first slice in this multi-slice acquisition.\n",
      "Scan  1\n"
     ]
    },
    {
     "name": "stderr",
     "output_type": "stream",
     "text": [
      "100%|██████████| 1.70G/1.70G [00:00<00:00, 2.42GB/s]"
     ]
    },
    {
     "name": "stdout",
     "output_type": "stream",
     "text": [
      "mdb\n",
      "hdr\n",
      "hdr_str\n",
      "raidfile_hdr\n",
      "geometry\n",
      "pmu\n",
      "Config\n",
      "Config_raw\n",
      "Dicom\n",
      "Dicom_raw\n",
      "Meas\n",
      "Meas_raw\n",
      "MeasYaps\n",
      "MeasYaps_raw\n",
      "Phoenix\n",
      "Phoenix_raw\n",
      "Protocol\n",
      "Protocol_raw\n",
      "Spice\n",
      "Spice_raw\n",
      "148\n",
      "4785\n",
      "133999616\n",
      "1827591968\n",
      "b'xxxxxxxxxxxxxxxxxxxxxxxxxxxxxxx'\n",
      "b't1_se_sag'\n",
      "Geometry:\n",
      "  inplane_rot: 0\n",
      "  normal: [0.995933, -0.089948, -0.005106]\n",
      "  offset: [-84.2509116603, 21.4344151626, 3.43813392236]\n",
      "  patient_position: HFS\n",
      "  rotmatrix: [[-0.005106, -0.089948, -0.9959333735451039], [-0.00023010516284865276, 0.9959464357250469, -0.089948], [0.9999869378200571, -0.00023010516284865276, -0.005106]]\n",
      "  voxelsize: [0.859375, 0.7801418439716312, 4.0]\n"
     ]
    },
    {
     "name": "stderr",
     "output_type": "stream",
     "text": [
      "\n"
     ]
    }
   ],
   "source": [
    "twix = twixtools.read_twix(ksp_files[3],  keep_syncdata_and_acqend=True)\n",
    "\n",
    "# Access measurement data\n",
    "last_measurement = twix[-1]\n",
    "measurement_data_blocks = last_measurement['mdb']\n",
    "for k,v in last_measurement.items():\n",
    "    print(k)\n",
    "\n",
    "for k in last_measurement['hdr']:\n",
    "    print(k)\n",
    "for k in last_measurement['raidfile_hdr']:\n",
    "    print(k)\n",
    "print(last_measurement['geometry'])"
   ]
  },
  {
   "cell_type": "markdown",
   "metadata": {},
   "source": [
    "# Reconstruct the image from raw-data file"
   ]
  },
  {
   "cell_type": "code",
   "execution_count": 9,
   "metadata": {},
   "outputs": [
    {
     "name": "stdout",
     "output_type": "stream",
     "text": [
      "WARNING: keep_syncdata_and_acqend is deprecated, use keep_syncdata and keep_acqend instead\n",
      "         Setting keep_syncdata and keep_acqend to {True}.\n",
      "Software version: VD/VE (!?)\n",
      "\n",
      "Scan  0\n"
     ]
    },
    {
     "name": "stderr",
     "output_type": "stream",
     "text": [
      "100%|██████████| 127M/127M [00:00<00:00, 1.84GB/s]\n"
     ]
    },
    {
     "name": "stdout",
     "output_type": "stream",
     "text": [
      "WARNING: Geometry calculations are valid only for the first slice in this multi-slice acquisition.\n",
      "Scan  1\n"
     ]
    },
    {
     "name": "stderr",
     "output_type": "stream",
     "text": [
      "100%|██████████| 1.70G/1.70G [00:00<00:00, 2.55GB/s]\n"
     ]
    },
    {
     "name": "stdout",
     "output_type": "stream",
     "text": [
      "Dimensions: ['Sli', 'Lin', 'Cha', 'Col']\n",
      "data dimensions before squeeze: (1, 1, 1, 1, 1, 1, 1, 1, 1, 1, 1, 27, 1, 282, 58, 256)\n",
      "data dimensions after squeeze: (27, 282, 58, 256)\n",
      "data shape - (27, 282, 58, 256)\n",
      "image shape - (27, 282, 256)\n"
     ]
    }
   ],
   "source": [
    "twix = twixtools.read_twix(ksp_files[3],  keep_syncdata_and_acqend=True)\n",
    "# map the twix data to twix_array objects\n",
    "mapped = twixtools.map_twix(twix)\n",
    "im_data = mapped[-1]['image']\n",
    "\n",
    "# make sure that we later squeeze the right dimensions:\n",
    "print(\"Dimensions: \"  + str(im_data.non_singleton_dims))\n",
    "line_index = im_data.non_singleton_dims.index(\"Lin\")\n",
    "col_index = im_data.non_singleton_dims.index(\"Col\")\n",
    "coil_index = im_data.non_singleton_dims.index(\"Cha\")\n",
    "\n",
    "# the twix_array object makes it easy to remove the 2x oversampling in read direction\n",
    "im_data.flags['remove_os'] = True\n",
    "\n",
    "# read the data (array-slicing is also supported)\n",
    "\n",
    "print(\"data dimensions before squeeze: \"  + str(im_data.shape))\n",
    "data = im_data[:].squeeze()\n",
    "print(\"data dimensions after squeeze: \"  + str(data.shape))\n",
    "\n",
    "image = ifftnd(data, [line_index, col_index])\n",
    "image = rms_comb(image, axis=coil_index)\n",
    "\n",
    "\n",
    "print(\"data shape - \" + str(data.shape))\n",
    "print(\"image shape - \" + str(image.shape))"
   ]
  },
  {
   "cell_type": "code",
   "execution_count": 12,
   "metadata": {},
   "outputs": [
    {
     "data": {
      "text/plain": [
       "<matplotlib.image.AxesImage at 0x7d41ad0d7310>"
      ]
     },
     "execution_count": 12,
     "metadata": {},
     "output_type": "execute_result"
    },
    {
     "data": {
      "image/png": "[encoded data removed]",
      "text/plain": [
       "<Figure size 640x480 with 1 Axes>"
      ]
     },
     "metadata": {},
     "output_type": "display_data"
    }
   ],
   "source": [
    "assert image.ndim == 3, \"Image should be a 3D array with shape (slices, x, y)\"\n",
    "\n",
    "plt.figure()\n",
    "plt.imshow(abs(image[20]), cmap=\"gray\")\n"
   ]
  }
 ],
 "metadata": {
  "kernelspec": {
   "display_name": "base",
   "language": "python",
   "name": "python3"
  },
  "language_info": {
   "codemirror_mode": {
    "name": "ipython",
    "version": 3
   },
   "file_extension": ".py",
   "mimetype": "text/x-python",
   "name": "python",
   "nbconvert_exporter": "python",
   "pygments_lexer": "ipython3",
   "version": "3.8.19"
  }
 },
 "nbformat": 4,
 "nbformat_minor": 2
}
